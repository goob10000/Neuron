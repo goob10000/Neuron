{
 "cells": [
  {
   "cell_type": "code",
   "execution_count": 3,
   "id": "825a4e05-bbce-41c8-81bd-2638c899b66a",
   "metadata": {},
   "outputs": [
    {
     "name": "stdout",
     "output_type": "stream",
     "text": [
      "Collecting matplotlib\n",
      "  Downloading matplotlib-3.9.1-cp310-cp310-win_amd64.whl.metadata (11 kB)\n",
      "Collecting contourpy>=1.0.1 (from matplotlib)\n",
      "  Downloading contourpy-1.2.1-cp310-cp310-win_amd64.whl.metadata (5.8 kB)\n",
      "Collecting cycler>=0.10 (from matplotlib)\n",
      "  Downloading cycler-0.12.1-py3-none-any.whl.metadata (3.8 kB)\n",
      "Collecting fonttools>=4.22.0 (from matplotlib)\n",
      "  Downloading fonttools-4.53.1-cp310-cp310-win_amd64.whl.metadata (165 kB)\n",
      "     ---------------------------------------- 0.0/165.9 kB ? eta -:--:--\n",
      "     ------- -------------------------------- 30.7/165.9 kB ? eta -:--:--\n",
      "     ------------------- ------------------- 81.9/165.9 kB 1.2 MB/s eta 0:00:01\n",
      "     ------------------- ------------------- 81.9/165.9 kB 1.2 MB/s eta 0:00:01\n",
      "     ------------------------------- ---- 143.4/165.9 kB 944.1 kB/s eta 0:00:01\n",
      "     -----------------------------------  163.8/165.9 kB 756.6 kB/s eta 0:00:01\n",
      "     ------------------------------------ 165.9/165.9 kB 710.8 kB/s eta 0:00:00\n",
      "Collecting kiwisolver>=1.3.1 (from matplotlib)\n",
      "  Downloading kiwisolver-1.4.5-cp310-cp310-win_amd64.whl.metadata (6.5 kB)\n",
      "Collecting numpy>=1.23 (from matplotlib)\n",
      "  Downloading numpy-2.0.0-cp310-cp310-win_amd64.whl.metadata (60 kB)\n",
      "     ---------------------------------------- 0.0/60.9 kB ? eta -:--:--\n",
      "     -------------------- ------------------- 30.7/60.9 kB ? eta -:--:--\n",
      "     ---------------------------------------- 60.9/60.9 kB 1.6 MB/s eta 0:00:00\n",
      "Requirement already satisfied: packaging>=20.0 in c:\\users\\goob\\anaconda3\\envs\\neurontest\\lib\\site-packages (from matplotlib) (24.1)\n",
      "Collecting pillow>=8 (from matplotlib)\n",
      "  Downloading pillow-10.4.0-cp310-cp310-win_amd64.whl.metadata (9.3 kB)\n",
      "Collecting pyparsing>=2.3.1 (from matplotlib)\n",
      "  Downloading pyparsing-3.1.2-py3-none-any.whl.metadata (5.1 kB)\n",
      "Requirement already satisfied: python-dateutil>=2.7 in c:\\users\\goob\\anaconda3\\envs\\neurontest\\lib\\site-packages (from matplotlib) (2.9.0.post0)\n",
      "Requirement already satisfied: six>=1.5 in c:\\users\\goob\\anaconda3\\envs\\neurontest\\lib\\site-packages (from python-dateutil>=2.7->matplotlib) (1.16.0)\n",
      "Downloading matplotlib-3.9.1-cp310-cp310-win_amd64.whl (8.0 MB)\n",
      "   ---------------------------------------- 0.0/8.0 MB ? eta -:--:--\n",
      "   ---------------------------------------- 0.1/8.0 MB 1.7 MB/s eta 0:00:05\n",
      "    --------------------------------------- 0.1/8.0 MB 1.1 MB/s eta 0:00:08\n",
      "    --------------------------------------- 0.2/8.0 MB 1.5 MB/s eta 0:00:06\n",
      "   - -------------------------------------- 0.2/8.0 MB 1.3 MB/s eta 0:00:06\n",
      "   - -------------------------------------- 0.3/8.0 MB 1.4 MB/s eta 0:00:06\n",
      "   - -------------------------------------- 0.4/8.0 MB 1.4 MB/s eta 0:00:06\n",
      "   -- ------------------------------------- 0.4/8.0 MB 1.5 MB/s eta 0:00:06\n",
      "   -- ------------------------------------- 0.5/8.0 MB 1.4 MB/s eta 0:00:06\n",
      "   -- ------------------------------------- 0.5/8.0 MB 1.4 MB/s eta 0:00:06\n",
      "   -- ------------------------------------- 0.6/8.0 MB 1.4 MB/s eta 0:00:06\n",
      "   --- ------------------------------------ 0.7/8.0 MB 1.4 MB/s eta 0:00:06\n",
      "   --- ------------------------------------ 0.8/8.0 MB 1.4 MB/s eta 0:00:06\n",
      "   ---- ----------------------------------- 0.8/8.0 MB 1.4 MB/s eta 0:00:06\n",
      "   ---- ----------------------------------- 0.9/8.0 MB 1.4 MB/s eta 0:00:06\n",
      "   ---- ----------------------------------- 0.9/8.0 MB 1.4 MB/s eta 0:00:06\n",
      "   ----- ---------------------------------- 1.1/8.0 MB 1.5 MB/s eta 0:00:05\n",
      "   ------ --------------------------------- 1.2/8.0 MB 1.6 MB/s eta 0:00:05\n",
      "   ------ --------------------------------- 1.3/8.0 MB 1.6 MB/s eta 0:00:05\n",
      "   ------- -------------------------------- 1.5/8.0 MB 1.7 MB/s eta 0:00:04\n",
      "   -------- ------------------------------- 1.6/8.0 MB 1.8 MB/s eta 0:00:04\n",
      "   --------- ------------------------------ 1.9/8.0 MB 2.0 MB/s eta 0:00:04\n",
      "   --------- ------------------------------ 2.0/8.0 MB 2.0 MB/s eta 0:00:03\n",
      "   ---------- ----------------------------- 2.1/8.0 MB 2.0 MB/s eta 0:00:03\n",
      "   ----------- ---------------------------- 2.3/8.0 MB 2.0 MB/s eta 0:00:03\n",
      "   ------------ --------------------------- 2.4/8.0 MB 2.2 MB/s eta 0:00:03\n",
      "   ------------ --------------------------- 2.6/8.0 MB 2.2 MB/s eta 0:00:03\n",
      "   -------------- ------------------------- 2.8/8.0 MB 2.3 MB/s eta 0:00:03\n",
      "   --------------- ------------------------ 3.1/8.0 MB 2.5 MB/s eta 0:00:02\n",
      "   ---------------- ----------------------- 3.3/8.0 MB 2.5 MB/s eta 0:00:02\n",
      "   ----------------- ---------------------- 3.5/8.0 MB 2.6 MB/s eta 0:00:02\n",
      "   ------------------ --------------------- 3.7/8.0 MB 2.6 MB/s eta 0:00:02\n",
      "   ------------------ --------------------- 3.8/8.0 MB 2.6 MB/s eta 0:00:02\n",
      "   ------------------- -------------------- 3.9/8.0 MB 2.6 MB/s eta 0:00:02\n",
      "   ------------------- -------------------- 4.0/8.0 MB 2.6 MB/s eta 0:00:02\n",
      "   --------------------- ------------------ 4.2/8.0 MB 2.6 MB/s eta 0:00:02\n",
      "   --------------------- ------------------ 4.4/8.0 MB 2.6 MB/s eta 0:00:02\n",
      "   ----------------------- ---------------- 4.7/8.0 MB 2.8 MB/s eta 0:00:02\n",
      "   ------------------------- -------------- 5.0/8.0 MB 2.9 MB/s eta 0:00:02\n",
      "   -------------------------- ------------- 5.2/8.0 MB 2.9 MB/s eta 0:00:01\n",
      "   --------------------------- ------------ 5.5/8.0 MB 3.0 MB/s eta 0:00:01\n",
      "   ---------------------------- ----------- 5.8/8.0 MB 3.1 MB/s eta 0:00:01\n",
      "   ----------------------------- ---------- 6.0/8.0 MB 3.1 MB/s eta 0:00:01\n",
      "   ------------------------------- -------- 6.2/8.0 MB 3.2 MB/s eta 0:00:01\n",
      "   -------------------------------- ------- 6.5/8.0 MB 3.2 MB/s eta 0:00:01\n",
      "   ---------------------------------- ----- 6.8/8.0 MB 3.3 MB/s eta 0:00:01\n",
      "   ----------------------------------- ---- 7.1/8.0 MB 3.4 MB/s eta 0:00:01\n",
      "   ------------------------------------ --- 7.2/8.0 MB 3.4 MB/s eta 0:00:01\n",
      "   ------------------------------------- -- 7.5/8.0 MB 3.4 MB/s eta 0:00:01\n",
      "   -------------------------------------- - 7.7/8.0 MB 3.5 MB/s eta 0:00:01\n",
      "   ---------------------------------------  7.8/8.0 MB 3.5 MB/s eta 0:00:01\n",
      "   ---------------------------------------  8.0/8.0 MB 3.4 MB/s eta 0:00:01\n",
      "   ---------------------------------------- 8.0/8.0 MB 3.4 MB/s eta 0:00:00\n",
      "Downloading contourpy-1.2.1-cp310-cp310-win_amd64.whl (187 kB)\n",
      "   ---------------------------------------- 0.0/187.5 kB ? eta -:--:--\n",
      "   ---------------------------------------- 187.5/187.5 kB 5.7 MB/s eta 0:00:00\n",
      "Downloading cycler-0.12.1-py3-none-any.whl (8.3 kB)\n",
      "Downloading fonttools-4.53.1-cp310-cp310-win_amd64.whl (2.2 MB)\n",
      "   ---------------------------------------- 0.0/2.2 MB ? eta -:--:--\n",
      "   - -------------------------------------- 0.1/2.2 MB 3.2 MB/s eta 0:00:01\n",
      "   ------- -------------------------------- 0.4/2.2 MB 5.4 MB/s eta 0:00:01\n",
      "   ----------- ---------------------------- 0.6/2.2 MB 5.0 MB/s eta 0:00:01\n",
      "   ---------------- ----------------------- 0.9/2.2 MB 5.3 MB/s eta 0:00:01\n",
      "   ------------------- -------------------- 1.1/2.2 MB 4.9 MB/s eta 0:00:01\n",
      "   ----------------------- ---------------- 1.3/2.2 MB 4.8 MB/s eta 0:00:01\n",
      "   --------------------------- ------------ 1.5/2.2 MB 4.9 MB/s eta 0:00:01\n",
      "   ------------------------------- -------- 1.7/2.2 MB 5.0 MB/s eta 0:00:01\n",
      "   ------------------------------------ --- 2.0/2.2 MB 5.1 MB/s eta 0:00:01\n",
      "   ---------------------------------------  2.2/2.2 MB 4.7 MB/s eta 0:00:01\n",
      "   ---------------------------------------- 2.2/2.2 MB 4.8 MB/s eta 0:00:00\n",
      "Downloading kiwisolver-1.4.5-cp310-cp310-win_amd64.whl (56 kB)\n",
      "   ---------------------------------------- 0.0/56.1 kB ? eta -:--:--\n",
      "   ---------------------------------------- 56.1/56.1 kB ? eta 0:00:00\n",
      "Downloading numpy-2.0.0-cp310-cp310-win_amd64.whl (16.5 MB)\n",
      "   ---------------------------------------- 0.0/16.5 MB ? eta -:--:--\n",
      "    --------------------------------------- 0.2/16.5 MB 7.6 MB/s eta 0:00:03\n",
      "   - -------------------------------------- 0.6/16.5 MB 7.0 MB/s eta 0:00:03\n",
      "   - -------------------------------------- 0.8/16.5 MB 6.3 MB/s eta 0:00:03\n",
      "   -- ------------------------------------- 1.1/16.5 MB 6.2 MB/s eta 0:00:03\n",
      "   -- ------------------------------------- 1.1/16.5 MB 6.1 MB/s eta 0:00:03\n",
      "   --- ------------------------------------ 1.4/16.5 MB 5.5 MB/s eta 0:00:03\n",
      "   --- ------------------------------------ 1.5/16.5 MB 5.0 MB/s eta 0:00:03\n",
      "   ---- ----------------------------------- 1.8/16.5 MB 5.1 MB/s eta 0:00:03\n",
      "   ---- ----------------------------------- 2.0/16.5 MB 4.9 MB/s eta 0:00:03\n",
      "   ----- ---------------------------------- 2.2/16.5 MB 4.8 MB/s eta 0:00:03\n",
      "   ----- ---------------------------------- 2.4/16.5 MB 4.9 MB/s eta 0:00:03\n",
      "   ------ --------------------------------- 2.5/16.5 MB 4.7 MB/s eta 0:00:03\n",
      "   ------ --------------------------------- 2.8/16.5 MB 4.6 MB/s eta 0:00:03\n",
      "   ------- -------------------------------- 2.9/16.5 MB 4.5 MB/s eta 0:00:04\n",
      "   ------- -------------------------------- 3.2/16.5 MB 4.6 MB/s eta 0:00:03\n",
      "   -------- ------------------------------- 3.4/16.5 MB 4.7 MB/s eta 0:00:03\n",
      "   -------- ------------------------------- 3.7/16.5 MB 4.7 MB/s eta 0:00:03\n",
      "   --------- ------------------------------ 3.9/16.5 MB 4.8 MB/s eta 0:00:03\n",
      "   --------- ------------------------------ 4.0/16.5 MB 4.6 MB/s eta 0:00:03\n",
      "   ---------- ----------------------------- 4.4/16.5 MB 4.8 MB/s eta 0:00:03\n",
      "   ----------- ---------------------------- 4.7/16.5 MB 4.9 MB/s eta 0:00:03\n",
      "   ----------- ---------------------------- 4.8/16.5 MB 4.8 MB/s eta 0:00:03\n",
      "   ----------- ---------------------------- 4.9/16.5 MB 4.7 MB/s eta 0:00:03\n",
      "   ------------ --------------------------- 5.3/16.5 MB 4.9 MB/s eta 0:00:03\n",
      "   ------------- -------------------------- 5.6/16.5 MB 4.9 MB/s eta 0:00:03\n",
      "   ------------- -------------------------- 5.7/16.5 MB 4.8 MB/s eta 0:00:03\n",
      "   -------------- ------------------------- 6.0/16.5 MB 4.8 MB/s eta 0:00:03\n",
      "   --------------- ------------------------ 6.2/16.5 MB 4.9 MB/s eta 0:00:03\n",
      "   --------------- ------------------------ 6.4/16.5 MB 4.8 MB/s eta 0:00:03\n",
      "   --------------- ------------------------ 6.6/16.5 MB 4.8 MB/s eta 0:00:03\n",
      "   ---------------- ----------------------- 6.9/16.5 MB 4.8 MB/s eta 0:00:03\n",
      "   ---------------- ----------------------- 7.0/16.5 MB 4.8 MB/s eta 0:00:02\n",
      "   ----------------- ---------------------- 7.2/16.5 MB 4.8 MB/s eta 0:00:02\n",
      "   ----------------- ---------------------- 7.3/16.5 MB 4.7 MB/s eta 0:00:02\n",
      "   ----------------- ---------------------- 7.4/16.5 MB 4.7 MB/s eta 0:00:02\n",
      "   ------------------ --------------------- 7.6/16.5 MB 4.6 MB/s eta 0:00:02\n",
      "   ------------------- -------------------- 7.8/16.5 MB 4.6 MB/s eta 0:00:02\n",
      "   ------------------- -------------------- 8.0/16.5 MB 4.6 MB/s eta 0:00:02\n",
      "   -------------------- ------------------- 8.3/16.5 MB 4.6 MB/s eta 0:00:02\n",
      "   -------------------- ------------------- 8.5/16.5 MB 4.6 MB/s eta 0:00:02\n",
      "   -------------------- ------------------- 8.6/16.5 MB 4.6 MB/s eta 0:00:02\n",
      "   --------------------- ------------------ 9.0/16.5 MB 4.7 MB/s eta 0:00:02\n",
      "   --------------------- ------------------ 9.0/16.5 MB 4.6 MB/s eta 0:00:02\n",
      "   ---------------------- ----------------- 9.1/16.5 MB 4.5 MB/s eta 0:00:02\n",
      "   ---------------------- ----------------- 9.2/16.5 MB 4.5 MB/s eta 0:00:02\n",
      "   ---------------------- ----------------- 9.4/16.5 MB 4.4 MB/s eta 0:00:02\n",
      "   ----------------------- ---------------- 9.6/16.5 MB 4.4 MB/s eta 0:00:02\n",
      "   ----------------------- ---------------- 9.8/16.5 MB 4.4 MB/s eta 0:00:02\n",
      "   ------------------------ --------------- 10.1/16.5 MB 4.5 MB/s eta 0:00:02\n",
      "   ------------------------- -------------- 10.4/16.5 MB 4.5 MB/s eta 0:00:02\n",
      "   ------------------------- -------------- 10.6/16.5 MB 4.5 MB/s eta 0:00:02\n",
      "   -------------------------- ------------- 10.8/16.5 MB 4.5 MB/s eta 0:00:02\n",
      "   -------------------------- ------------- 10.9/16.5 MB 4.5 MB/s eta 0:00:02\n",
      "   --------------------------- ------------ 11.3/16.5 MB 4.5 MB/s eta 0:00:02\n",
      "   --------------------------- ------------ 11.5/16.5 MB 4.5 MB/s eta 0:00:02\n",
      "   ---------------------------- ----------- 11.7/16.5 MB 4.5 MB/s eta 0:00:02\n",
      "   ---------------------------- ----------- 11.8/16.5 MB 4.5 MB/s eta 0:00:02\n",
      "   ----------------------------- ---------- 12.0/16.5 MB 4.4 MB/s eta 0:00:02\n",
      "   ----------------------------- ---------- 12.1/16.5 MB 4.4 MB/s eta 0:00:01\n",
      "   ----------------------------- ---------- 12.3/16.5 MB 4.4 MB/s eta 0:00:01\n",
      "   ------------------------------ --------- 12.5/16.5 MB 4.4 MB/s eta 0:00:01\n",
      "   ------------------------------ --------- 12.6/16.5 MB 4.4 MB/s eta 0:00:01\n",
      "   ------------------------------ --------- 12.7/16.5 MB 4.3 MB/s eta 0:00:01\n",
      "   ------------------------------- -------- 12.9/16.5 MB 4.4 MB/s eta 0:00:01\n",
      "   ------------------------------- -------- 13.1/16.5 MB 4.3 MB/s eta 0:00:01\n",
      "   -------------------------------- ------- 13.3/16.5 MB 4.4 MB/s eta 0:00:01\n",
      "   -------------------------------- ------- 13.5/16.5 MB 4.3 MB/s eta 0:00:01\n",
      "   -------------------------------- ------- 13.6/16.5 MB 4.3 MB/s eta 0:00:01\n",
      "   --------------------------------- ------ 13.9/16.5 MB 4.3 MB/s eta 0:00:01\n",
      "   ---------------------------------- ----- 14.1/16.5 MB 4.3 MB/s eta 0:00:01\n",
      "   ---------------------------------- ----- 14.3/16.5 MB 4.3 MB/s eta 0:00:01\n",
      "   ----------------------------------- ---- 14.6/16.5 MB 4.3 MB/s eta 0:00:01\n",
      "   ----------------------------------- ---- 14.6/16.5 MB 4.3 MB/s eta 0:00:01\n",
      "   ------------------------------------ --- 14.9/16.5 MB 4.2 MB/s eta 0:00:01\n",
      "   ------------------------------------ --- 14.9/16.5 MB 4.2 MB/s eta 0:00:01\n",
      "   ------------------------------------ --- 15.2/16.5 MB 4.2 MB/s eta 0:00:01\n",
      "   ------------------------------------- -- 15.6/16.5 MB 4.3 MB/s eta 0:00:01\n",
      "   -------------------------------------- - 15.8/16.5 MB 4.2 MB/s eta 0:00:01\n",
      "   -------------------------------------- - 16.0/16.5 MB 4.3 MB/s eta 0:00:01\n",
      "   ---------------------------------------  16.1/16.5 MB 4.2 MB/s eta 0:00:01\n",
      "   ---------------------------------------  16.3/16.5 MB 4.2 MB/s eta 0:00:01\n",
      "   ---------------------------------------  16.5/16.5 MB 4.2 MB/s eta 0:00:01\n",
      "   ---------------------------------------- 16.5/16.5 MB 4.1 MB/s eta 0:00:00\n",
      "Downloading pillow-10.4.0-cp310-cp310-win_amd64.whl (2.6 MB)\n",
      "   ---------------------------------------- 0.0/2.6 MB ? eta -:--:--\n",
      "   -- ------------------------------------- 0.1/2.6 MB 2.9 MB/s eta 0:00:01\n",
      "   --- ------------------------------------ 0.2/2.6 MB 2.5 MB/s eta 0:00:01\n",
      "   ----- ---------------------------------- 0.3/2.6 MB 3.0 MB/s eta 0:00:01\n",
      "   ------- -------------------------------- 0.5/2.6 MB 2.6 MB/s eta 0:00:01\n",
      "   -------- ------------------------------- 0.5/2.6 MB 2.5 MB/s eta 0:00:01\n",
      "   -------- ------------------------------- 0.6/2.6 MB 2.0 MB/s eta 0:00:01\n",
      "   --------- ------------------------------ 0.6/2.6 MB 2.0 MB/s eta 0:00:01\n",
      "   ----------- ---------------------------- 0.7/2.6 MB 2.0 MB/s eta 0:00:01\n",
      "   ------------ --------------------------- 0.8/2.6 MB 1.9 MB/s eta 0:00:01\n",
      "   ------------- -------------------------- 0.9/2.6 MB 1.9 MB/s eta 0:00:01\n",
      "   --------------- ------------------------ 1.0/2.6 MB 2.0 MB/s eta 0:00:01\n",
      "   --------------- ------------------------ 1.0/2.6 MB 1.9 MB/s eta 0:00:01\n",
      "   ----------------- ---------------------- 1.1/2.6 MB 1.9 MB/s eta 0:00:01\n",
      "   ------------------- -------------------- 1.2/2.6 MB 1.9 MB/s eta 0:00:01\n",
      "   -------------------- ------------------- 1.3/2.6 MB 1.9 MB/s eta 0:00:01\n",
      "   -------------------- ------------------- 1.3/2.6 MB 1.9 MB/s eta 0:00:01\n",
      "   --------------------- ------------------ 1.4/2.6 MB 1.7 MB/s eta 0:00:01\n",
      "   ---------------------- ----------------- 1.4/2.6 MB 1.7 MB/s eta 0:00:01\n",
      "   ----------------------- ---------------- 1.5/2.6 MB 1.7 MB/s eta 0:00:01\n",
      "   ----------------------- ---------------- 1.5/2.6 MB 1.6 MB/s eta 0:00:01\n",
      "   ------------------------- -------------- 1.6/2.6 MB 1.7 MB/s eta 0:00:01\n",
      "   --------------------------- ------------ 1.7/2.6 MB 1.7 MB/s eta 0:00:01\n",
      "   --------------------------- ------------ 1.8/2.6 MB 1.7 MB/s eta 0:00:01\n",
      "   ----------------------------- ---------- 1.9/2.6 MB 1.7 MB/s eta 0:00:01\n",
      "   ------------------------------ --------- 2.0/2.6 MB 1.7 MB/s eta 0:00:01\n",
      "   -------------------------------- ------- 2.1/2.6 MB 1.7 MB/s eta 0:00:01\n",
      "   ---------------------------------- ----- 2.2/2.6 MB 1.8 MB/s eta 0:00:01\n",
      "   ------------------------------------- -- 2.4/2.6 MB 1.8 MB/s eta 0:00:01\n",
      "   ------------------------------------- -- 2.4/2.6 MB 1.8 MB/s eta 0:00:01\n",
      "   -------------------------------------- - 2.5/2.6 MB 1.8 MB/s eta 0:00:01\n",
      "   ---------------------------------------- 2.6/2.6 MB 1.8 MB/s eta 0:00:00\n",
      "Downloading pyparsing-3.1.2-py3-none-any.whl (103 kB)\n",
      "   ---------------------------------------- 0.0/103.2 kB ? eta -:--:--\n",
      "   --- ------------------------------------ 10.2/103.2 kB ? eta -:--:--\n",
      "   ----------- --------------------------- 30.7/103.2 kB 435.7 kB/s eta 0:00:01\n",
      "   --------------- ----------------------- 41.0/103.2 kB 326.8 kB/s eta 0:00:01\n",
      "   -------------------------------------- 103.2/103.2 kB 596.2 kB/s eta 0:00:00\n",
      "Installing collected packages: pyparsing, pillow, numpy, kiwisolver, fonttools, cycler, contourpy, matplotlib\n",
      "Successfully installed contourpy-1.2.1 cycler-0.12.1 fonttools-4.53.1 kiwisolver-1.4.5 matplotlib-3.9.1 numpy-2.0.0 pillow-10.4.0 pyparsing-3.1.2\n"
     ]
    }
   ],
   "source": [
    "!pip install matplotlib"
   ]
  },
  {
   "cell_type": "code",
   "execution_count": 1,
   "id": "e5274467-0205-4f5d-9266-aa9424c5d9f8",
   "metadata": {},
   "outputs": [],
   "source": [
    "from neuron import h\n",
    "from neuron.units import ms, mV\n",
    "import matplotlib.pyplot as plt"
   ]
  },
  {
   "cell_type": "code",
   "execution_count": 2,
   "id": "c8e230fb-006d-4096-aa79-461d57933a5f",
   "metadata": {},
   "outputs": [
    {
     "data": {
      "text/plain": [
       "1.0"
      ]
     },
     "execution_count": 2,
     "metadata": {},
     "output_type": "execute_result"
    }
   ],
   "source": [
    "h.load_file('stdrun.hoc')"
   ]
  },
  {
   "cell_type": "code",
   "execution_count": 3,
   "id": "3bb4eb4a-847b-459a-9fe7-45b3c7bf2b92",
   "metadata": {},
   "outputs": [
    {
     "name": "stdout",
     "output_type": "stream",
     "text": [
      "done\n"
     ]
    }
   ],
   "source": [
    "class BallAndStick:\n",
    "    def __init__(self, gid):\n",
    "        self._gid = gid\n",
    "        self.soma = h.Section(name='soma', cell=self)\n",
    "        self.dend = h.Section(name='dend', cell=self)\n",
    "        self.dend.connect(self.soma)\n",
    "        self.soma.L = self.soma.diam = 12.6157\n",
    "        self.dend.L = 200\n",
    "        self.dend.diam = 1\n",
    "    def __repr__(self):\n",
    "        return 'BallAndStick[{}]'.format(self._gid)\n",
    "\n",
    "print(\"done\")"
   ]
  },
  {
   "cell_type": "code",
   "execution_count": 5,
   "id": "87084418-06e0-4074-9eaf-89478c3d0262",
   "metadata": {},
   "outputs": [
    {
     "name": "stdout",
     "output_type": "stream",
     "text": [
      "\n",
      "|-|       BallAndStick[0].soma(0-1)\n",
      "   `|       BallAndStick[0].dend(0-1)\n",
      "\n"
     ]
    },
    {
     "data": {
      "text/plain": [
       "1.0"
      ]
     },
     "execution_count": 5,
     "metadata": {},
     "output_type": "execute_result"
    }
   ],
   "source": [
    "# my_cell = BallAndStick(0)\n",
    "my_cell = BallAndStick(0)\n",
    "my_cell.soma(0.5).area()\n",
    "# my_other_cell = BallAndStick(1)\n",
    "h.topology()\n",
    "\n",
    "# del my_other_cell\n"
   ]
  },
  {
   "cell_type": "code",
   "execution_count": 6,
   "id": "23075ef0-f2e4-4642-ad72-009fb53cb43c",
   "metadata": {},
   "outputs": [
    {
     "ename": "OSError",
     "evalue": "exception: access violation reading 0x0000000000000010",
     "output_type": "error",
     "traceback": [
      "\u001b[1;31m---------------------------------------------------------------------------\u001b[0m",
      "\u001b[1;31mOSError\u001b[0m                                   Traceback (most recent call last)",
      "Cell \u001b[1;32mIn[6], line 1\u001b[0m\n\u001b[1;32m----> 1\u001b[0m \u001b[43mh\u001b[49m\u001b[38;5;241;43m.\u001b[39;49m\u001b[43mPlotShape\u001b[49m\u001b[43m(\u001b[49m\u001b[38;5;28;43;01mFalse\u001b[39;49;00m\u001b[43m)\u001b[49m\u001b[38;5;241;43m.\u001b[39;49m\u001b[43mplot\u001b[49m\u001b[43m(\u001b[49m\u001b[43mplt\u001b[49m\u001b[43m)\u001b[49m\n",
      "File \u001b[1;32mc:\\nrn\\lib\\python\\neuron\\__init__.py:1237\u001b[0m, in \u001b[0;36m_PlotShapePlot.__call__\u001b[1;34m(self, graph, *args, **kwargs)\u001b[0m\n\u001b[0;32m   1235\u001b[0m \u001b[38;5;28;01mif\u001b[39;00m graph\u001b[38;5;241m.\u001b[39m\u001b[38;5;18m__name__\u001b[39m \u001b[38;5;241m==\u001b[39m \u001b[38;5;124m\"\u001b[39m\u001b[38;5;124mmatplotlib.pyplot\u001b[39m\u001b[38;5;124m\"\u001b[39m:\n\u001b[0;32m   1236\u001b[0m     fig \u001b[38;5;241m=\u001b[39m graph\u001b[38;5;241m.\u001b[39mfigure()\n\u001b[1;32m-> 1237\u001b[0m     \u001b[38;5;28;01mreturn\u001b[39;00m \u001b[43m_do_plot_on_matplotlib_figure\u001b[49m\u001b[43m(\u001b[49m\u001b[43mfig\u001b[49m\u001b[43m)\u001b[49m\n\u001b[0;32m   1238\u001b[0m \u001b[38;5;28;01melif\u001b[39;00m graph\u001b[38;5;241m.\u001b[39m\u001b[38;5;18m__name__\u001b[39m \u001b[38;5;241m==\u001b[39m \u001b[38;5;124m\"\u001b[39m\u001b[38;5;124mplotly\u001b[39m\u001b[38;5;124m\"\u001b[39m:\n\u001b[0;32m   1239\u001b[0m     \u001b[38;5;28;01mreturn\u001b[39;00m _do_plot_on_plotly()\n",
      "File \u001b[1;32mc:\\nrn\\lib\\python\\neuron\\__init__.py:1083\u001b[0m, in \u001b[0;36m_PlotShapePlot.__call__.<locals>._do_plot_on_matplotlib_figure\u001b[1;34m(fig)\u001b[0m\n\u001b[0;32m   1081\u001b[0m get_plotshape_data \u001b[38;5;241m=\u001b[39m nrn_dll_sym(\u001b[38;5;124m\"\u001b[39m\u001b[38;5;124mget_plotshape_data\u001b[39m\u001b[38;5;124m\"\u001b[39m)\n\u001b[0;32m   1082\u001b[0m get_plotshape_data\u001b[38;5;241m.\u001b[39mrestype \u001b[38;5;241m=\u001b[39m ctypes\u001b[38;5;241m.\u001b[39mpy_object\n\u001b[1;32m-> 1083\u001b[0m variable, varobj, lo, hi, secs \u001b[38;5;241m=\u001b[39m \u001b[43mget_plotshape_data\u001b[49m\u001b[43m(\u001b[49m\n\u001b[0;32m   1084\u001b[0m \u001b[43m    \u001b[49m\u001b[43mctypes\u001b[49m\u001b[38;5;241;43m.\u001b[39;49m\u001b[43mpy_object\u001b[49m\u001b[43m(\u001b[49m\u001b[38;5;28;43mself\u001b[39;49m\u001b[38;5;241;43m.\u001b[39;49m\u001b[43m_data\u001b[49m\u001b[43m)\u001b[49m\n\u001b[0;32m   1085\u001b[0m \u001b[43m\u001b[49m\u001b[43m)\u001b[49m\n\u001b[0;32m   1086\u001b[0m \u001b[38;5;28;01mif\u001b[39;00m varobj \u001b[38;5;129;01mis\u001b[39;00m \u001b[38;5;129;01mnot\u001b[39;00m \u001b[38;5;28;01mNone\u001b[39;00m:\n\u001b[0;32m   1087\u001b[0m     variable \u001b[38;5;241m=\u001b[39m varobj\n",
      "\u001b[1;31mOSError\u001b[0m: exception: access violation reading 0x0000000000000010"
     ]
    },
    {
     "data": {
      "text/plain": [
       "<Figure size 640x480 with 0 Axes>"
      ]
     },
     "metadata": {},
     "output_type": "display_data"
    }
   ],
   "source": [
    "h.PlotShape(False).plot(plt)"
   ]
  },
  {
   "cell_type": "code",
   "execution_count": 7,
   "id": "c9de0507-e16f-43c5-9501-f836d79db2c8",
   "metadata": {},
   "outputs": [
    {
     "name": "stdout",
     "output_type": "stream",
     "text": [
      "S/cm2\n"
     ]
    },
    {
     "ename": "TypeError",
     "evalue": "_PlotShapePlot.__call__() missing 1 required positional argument: 'graph'",
     "output_type": "error",
     "traceback": [
      "\u001b[1;31m---------------------------------------------------------------------------\u001b[0m",
      "\u001b[1;31mTypeError\u001b[0m                                 Traceback (most recent call last)",
      "Cell \u001b[1;32mIn[7], line 2\u001b[0m\n\u001b[0;32m      1\u001b[0m \u001b[38;5;28mprint\u001b[39m(h\u001b[38;5;241m.\u001b[39munits(\u001b[38;5;124m'\u001b[39m\u001b[38;5;124mgnabar_hh\u001b[39m\u001b[38;5;124m'\u001b[39m))\n\u001b[1;32m----> 2\u001b[0m \u001b[43mh\u001b[49m\u001b[38;5;241;43m.\u001b[39;49m\u001b[43mPlotShape\u001b[49m\u001b[43m(\u001b[49m\u001b[38;5;28;43;01mFalse\u001b[39;49;00m\u001b[43m)\u001b[49m\u001b[38;5;241;43m.\u001b[39;49m\u001b[43mplot\u001b[49m\u001b[43m(\u001b[49m\u001b[43m)\u001b[49m\n",
      "\u001b[1;31mTypeError\u001b[0m: _PlotShapePlot.__call__() missing 1 required positional argument: 'graph'"
     ]
    }
   ],
   "source": [
    "print(h.units('gnabar_hh'))\n",
    "h.PlotShape(False).plot()"
   ]
  },
  {
   "cell_type": "code",
   "execution_count": 6,
   "id": "bb4b53e1-f314-4621-865b-41d8a25e92e9",
   "metadata": {},
   "outputs": [
    {
     "ename": "OSError",
     "evalue": "exception: access violation reading 0x0000000000000010",
     "output_type": "error",
     "traceback": [
      "\u001b[1;31m---------------------------------------------------------------------------\u001b[0m",
      "\u001b[1;31mOSError\u001b[0m                                   Traceback (most recent call last)",
      "Cell \u001b[1;32mIn[6], line 10\u001b[0m\n\u001b[0;32m      7\u001b[0m dend\u001b[38;5;241m.\u001b[39mconnect(main)\n\u001b[0;32m      9\u001b[0m ps \u001b[38;5;241m=\u001b[39m h\u001b[38;5;241m.\u001b[39mPlotShape(\u001b[38;5;28;01mTrue\u001b[39;00m)\n\u001b[1;32m---> 10\u001b[0m \u001b[43mps\u001b[49m\u001b[38;5;241;43m.\u001b[39;49m\u001b[43mplot\u001b[49m\u001b[43m(\u001b[49m\u001b[43mpyplot\u001b[49m\u001b[43m)\u001b[49m\n\u001b[0;32m     11\u001b[0m pyplot\u001b[38;5;241m.\u001b[39mshow()\n",
      "File \u001b[1;32mc:\\nrn\\lib\\python\\neuron\\__init__.py:1237\u001b[0m, in \u001b[0;36m_PlotShapePlot.__call__\u001b[1;34m(self, graph, *args, **kwargs)\u001b[0m\n\u001b[0;32m   1235\u001b[0m \u001b[38;5;28;01mif\u001b[39;00m graph\u001b[38;5;241m.\u001b[39m\u001b[38;5;18m__name__\u001b[39m \u001b[38;5;241m==\u001b[39m \u001b[38;5;124m\"\u001b[39m\u001b[38;5;124mmatplotlib.pyplot\u001b[39m\u001b[38;5;124m\"\u001b[39m:\n\u001b[0;32m   1236\u001b[0m     fig \u001b[38;5;241m=\u001b[39m graph\u001b[38;5;241m.\u001b[39mfigure()\n\u001b[1;32m-> 1237\u001b[0m     \u001b[38;5;28;01mreturn\u001b[39;00m \u001b[43m_do_plot_on_matplotlib_figure\u001b[49m\u001b[43m(\u001b[49m\u001b[43mfig\u001b[49m\u001b[43m)\u001b[49m\n\u001b[0;32m   1238\u001b[0m \u001b[38;5;28;01melif\u001b[39;00m graph\u001b[38;5;241m.\u001b[39m\u001b[38;5;18m__name__\u001b[39m \u001b[38;5;241m==\u001b[39m \u001b[38;5;124m\"\u001b[39m\u001b[38;5;124mplotly\u001b[39m\u001b[38;5;124m\"\u001b[39m:\n\u001b[0;32m   1239\u001b[0m     \u001b[38;5;28;01mreturn\u001b[39;00m _do_plot_on_plotly()\n",
      "File \u001b[1;32mc:\\nrn\\lib\\python\\neuron\\__init__.py:1083\u001b[0m, in \u001b[0;36m_PlotShapePlot.__call__.<locals>._do_plot_on_matplotlib_figure\u001b[1;34m(fig)\u001b[0m\n\u001b[0;32m   1081\u001b[0m get_plotshape_data \u001b[38;5;241m=\u001b[39m nrn_dll_sym(\u001b[38;5;124m\"\u001b[39m\u001b[38;5;124mget_plotshape_data\u001b[39m\u001b[38;5;124m\"\u001b[39m)\n\u001b[0;32m   1082\u001b[0m get_plotshape_data\u001b[38;5;241m.\u001b[39mrestype \u001b[38;5;241m=\u001b[39m ctypes\u001b[38;5;241m.\u001b[39mpy_object\n\u001b[1;32m-> 1083\u001b[0m variable, varobj, lo, hi, secs \u001b[38;5;241m=\u001b[39m \u001b[43mget_plotshape_data\u001b[49m\u001b[43m(\u001b[49m\n\u001b[0;32m   1084\u001b[0m \u001b[43m    \u001b[49m\u001b[43mctypes\u001b[49m\u001b[38;5;241;43m.\u001b[39;49m\u001b[43mpy_object\u001b[49m\u001b[43m(\u001b[49m\u001b[38;5;28;43mself\u001b[39;49m\u001b[38;5;241;43m.\u001b[39;49m\u001b[43m_data\u001b[49m\u001b[43m)\u001b[49m\n\u001b[0;32m   1085\u001b[0m \u001b[43m\u001b[49m\u001b[43m)\u001b[49m\n\u001b[0;32m   1086\u001b[0m \u001b[38;5;28;01mif\u001b[39;00m varobj \u001b[38;5;129;01mis\u001b[39;00m \u001b[38;5;129;01mnot\u001b[39;00m \u001b[38;5;28;01mNone\u001b[39;00m:\n\u001b[0;32m   1087\u001b[0m     variable \u001b[38;5;241m=\u001b[39m varobj\n",
      "\u001b[1;31mOSError\u001b[0m: exception: access violation reading 0x0000000000000010"
     ]
    },
    {
     "data": {
      "text/plain": [
       "<Figure size 640x480 with 0 Axes>"
      ]
     },
     "metadata": {},
     "output_type": "display_data"
    }
   ],
   "source": [
    "# %matplotlib inline\n",
    "from neuron import h\n",
    "from matplotlib import pyplot\n",
    "\n",
    "main = h.Section(name='main')\n",
    "dend = h.Section(name='dend')\n",
    "dend.connect(main)\n",
    "\n",
    "ps = h.PlotShape(True)\n",
    "ps.plot(pyplot)\n",
    "pyplot.show()\n"
   ]
  },
  {
   "cell_type": "code",
   "execution_count": 4,
   "id": "850fbddd-3e1b-47f8-a063-537675315081",
   "metadata": {},
   "outputs": [
    {
     "ename": "ImportError",
     "evalue": "cannot import name 'GUI' from 'neuron' (c:\\nrn\\lib\\python\\neuron\\__init__.py)",
     "output_type": "error",
     "traceback": [
      "\u001b[1;31m---------------------------------------------------------------------------\u001b[0m",
      "\u001b[1;31mImportError\u001b[0m                               Traceback (most recent call last)",
      "Cell \u001b[1;32mIn[4], line 4\u001b[0m\n\u001b[0;32m      2\u001b[0m \u001b[38;5;28;01mfrom\u001b[39;00m \u001b[38;5;21;01mneuron\u001b[39;00m\u001b[38;5;21;01m.\u001b[39;00m\u001b[38;5;21;01munits\u001b[39;00m \u001b[38;5;28;01mimport\u001b[39;00m mV, ms\n\u001b[0;32m      3\u001b[0m \u001b[38;5;28;01mimport\u001b[39;00m \u001b[38;5;21;01mmatplotlib\u001b[39;00m\u001b[38;5;21;01m.\u001b[39;00m\u001b[38;5;21;01mpyplot\u001b[39;00m \u001b[38;5;28;01mas\u001b[39;00m \u001b[38;5;21;01mplt\u001b[39;00m\n\u001b[1;32m----> 4\u001b[0m \u001b[38;5;28;01mfrom\u001b[39;00m \u001b[38;5;21;01mneuron\u001b[39;00m \u001b[38;5;28;01mimport\u001b[39;00m GUI\n\u001b[0;32m      7\u001b[0m \u001b[38;5;66;03m# define sections\u001b[39;00m\n\u001b[0;32m      8\u001b[0m soma \u001b[38;5;241m=\u001b[39m h\u001b[38;5;241m.\u001b[39mSection(name\u001b[38;5;241m=\u001b[39m\u001b[38;5;124m'\u001b[39m\u001b[38;5;124msoma\u001b[39m\u001b[38;5;124m'\u001b[39m)\n",
      "\u001b[1;31mImportError\u001b[0m: cannot import name 'GUI' from 'neuron' (c:\\nrn\\lib\\python\\neuron\\__init__.py)"
     ]
    }
   ],
   "source": [
    "from neuron import h\n",
    "from neuron.units import mV, ms\n",
    "import matplotlib.pyplot as plt\n",
    "from neuron import GUI\n",
    "\n",
    "\n",
    "# define sections\n",
    "soma = h.Section(name='soma')\n",
    "papic = h.Section(name='proxApical')\n",
    "apic1 = h.Section(name='apic1')\n",
    "apic2 = h.Section(name='apic2')\n",
    "\n",
    "soma.diam = 126.457039\n",
    "soma.L = 126.457039\n",
    "papic.diam = 73.896439\n",
    "apic1.diam = 13.615427\n",
    "apic2.diam = 13.615427\n",
    "ps = h.PlotShape()\n",
    "# use 1 instead of 0 to hide diams\n",
    "ps.show(0)\n",
    "# connect them\n",
    "papic.connect(soma)\n",
    "apic1.connect(papic)\n",
    "apic2.connect(papic)\n",
    "# list topology\n",
    "h.topology()"
   ]
  },
  {
   "cell_type": "code",
   "execution_count": null,
   "id": "43d14c6a-a276-4e37-bda0-b31bc7fa376c",
   "metadata": {},
   "outputs": [],
   "source": []
  }
 ],
 "metadata": {
  "kernelspec": {
   "display_name": "Python 3 (ipykernel)",
   "language": "python",
   "name": "python3"
  },
  "language_info": {
   "codemirror_mode": {
    "name": "ipython",
    "version": 3
   },
   "file_extension": ".py",
   "mimetype": "text/x-python",
   "name": "python",
   "nbconvert_exporter": "python",
   "pygments_lexer": "ipython3",
   "version": "3.10.14"
  }
 },
 "nbformat": 4,
 "nbformat_minor": 5
}
